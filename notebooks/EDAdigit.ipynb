{
 "cells": [
  {
   "cell_type": "code",
   "execution_count": 1,
   "id": "340a2055-2c6e-455b-9098-e600b30ecb0d",
   "metadata": {},
   "outputs": [],
   "source": [
    "import numpy as np"
   ]
  },
  {
   "cell_type": "code",
   "execution_count": 2,
   "id": "e2feaf9c-3369-4ecd-81ec-f7a44df0ef46",
   "metadata": {},
   "outputs": [],
   "source": [
    "import matplotlib.pyplot as plt\n",
    "from sklearn import datasets"
   ]
  },
  {
   "cell_type": "code",
   "execution_count": 3,
   "id": "a641d101-8cfb-4129-b8ee-e403c06b14f2",
   "metadata": {},
   "outputs": [],
   "source": [
    "mnist = datasets.fetch_openml('mnist_784', version=1)\n",
    "X = np.array(mnist.data)\n",
    "y = np.array(mnist.target)"
   ]
  },
  {
   "cell_type": "code",
   "execution_count": null,
   "id": "fb8d4113-4efd-4e26-ab6e-5e2a6a492e1a",
   "metadata": {},
   "outputs": [],
   "source": []
  }
 ],
 "metadata": {
  "kernelspec": {
   "display_name": "Python (digitenv)",
   "language": "python",
   "name": "digitenv"
  },
  "language_info": {
   "codemirror_mode": {
    "name": "ipython",
    "version": 3
   },
   "file_extension": ".py",
   "mimetype": "text/x-python",
   "name": "python",
   "nbconvert_exporter": "python",
   "pygments_lexer": "ipython3",
   "version": "3.13.0"
  },
  "widgets": {
   "application/vnd.jupyter.widget-state+json": {
    "state": {},
    "version_major": 2,
    "version_minor": 0
   }
  }
 },
 "nbformat": 4,
 "nbformat_minor": 5
}
