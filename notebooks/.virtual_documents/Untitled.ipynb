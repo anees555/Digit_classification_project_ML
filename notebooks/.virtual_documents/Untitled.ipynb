import numpy as np


import matplotlib.pyplot as plt
from sklearn import datasets


mnist = datasets.fetch_openml('mnist_784', version=1)
X = np.array(mnist.data)
y = np.array(mnist.target)


random_index = np.random.randint(0, len(X))
image = X[random_index].reshape(28, 28)



plt.imshow(image, cmap="gray")
plt.title(f"Label: {y[random_index]}")
plt.show()



